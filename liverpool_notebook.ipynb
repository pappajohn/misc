{
 "cells": [
  {
   "cell_type": "code",
   "execution_count": 8,
   "metadata": {},
   "outputs": [],
   "source": [
    "def liverpoolodds(hand_size):\n",
    "    x_values = []\n",
    "    y_values = []\n",
    "    z_values = []\n",
    "    a_values = []\n",
    "    p_nomatchesuntilthispoint = 1\n",
    "    \n",
    "    for x in range(1, hand_size):\n",
    "        if x == 1:\n",
    "            y = 104\n",
    "            z = 104\n",
    "        else:\n",
    "            y = y - 2\n",
    "            z = z - 1\n",
    "        p_thisdrawnomatch = y / z\n",
    "        p_nomatchesuntilthispoint = p_nomatchesuntilthispoint * p_thisdrawnomatch\n",
    "        x_values.append(x)        \n",
    "        y_values.append(y)\n",
    "        a_values.append(p_thisdrawnomatch)\n",
    "        z_values.append(p_nomatchesuntilthispoint)\n",
    "    \n",
    "    a_values_inverted = []\n",
    "    z_values_inverted = []\n",
    "    for x in range(len(a_values)):\n",
    "        a_values_inverted.append(1 - a_values[x])\n",
    "        z_values_inverted.append(1 - z_values[x])\n",
    "        \n",
    "        #print('hand size = ' + str(x))\n",
    "        #print('numerator = ' + str(y))\n",
    "        #print('denominator = ' + str(z))\n",
    "        #print('draw p = ' + str(p_thisdrawnomatch))\n",
    "        #print('total p = ' + str(p_nomatchesuntilthispoint))\n",
    "        #print('--------')\n",
    "                \n",
    "    return x_values, y_values, a_values, z_values, a_values_inverted, z_values_inverted\n",
    "\n",
    "import matplotlib.pyplot as plt \n",
    "def graph_odds(hand_size):\n",
    "    \n",
    "    xv , yv , av , zv, avi, zvi = liverpoolodds(hand_size)\n",
    "\n",
    "    # plotting the points  \n",
    "    plt.plot(xv, zvi, label = 'P(pair on this draw | no pairs yet)')\n",
    "    #plt.plot(xv, avi, label = 'P(no pair on this or prior draws)')\n",
    "    \n",
    "    # plotting the 50% line\n",
    "    plt.plot([1,52], [0.5,0.5], linestyle='--')\n",
    "\n",
    "\n",
    "    # naming the x axis \n",
    "    plt.xlabel('N = # cards drawn') \n",
    "    # naming the y axis \n",
    "    plt.ylabel('P = probability') \n",
    "\n",
    "    # giving a title to my graph \n",
    "    plt.title('P(1+ pairs when drawing N cards from two combined decks)') \n",
    "\n",
    "    #plt.legend()\n",
    "    \n",
    "    # function to show the plot \n",
    "    plt.show()"
   ]
  },
  {
   "cell_type": "code",
   "execution_count": 9,
   "metadata": {},
   "outputs": [
    {
     "data": {
      "image/png": "[encoded data removed]",
      "text/plain": [
       "<Figure size 432x288 with 1 Axes>"
      ]
     },
     "metadata": {
      "needs_background": "light"
     },
     "output_type": "display_data"
    }
   ],
   "source": [
    "graph_odds(52)"
   ]
  },
  {
   "cell_type": "code",
   "execution_count": 3,
   "metadata": {},
   "outputs": [],
   "source": [
    "def liverpoolsim(n):\n",
    "    # make deck of 2 combined 52-card decks\n",
    "    deck = []\n",
    "    for x in range(2):\n",
    "        for x in range(52):\n",
    "            deck.append(x)\n",
    "    d = deck\n",
    "    \n",
    "    # make empty hand\n",
    "    h = []\n",
    "    \n",
    "    # make list of num_draws until match\n",
    "    l = []\n",
    "    \n",
    "    # run a simulation n times where each sim draws cards from deck until a match occurs\n",
    "    import random\n",
    "    \n",
    "    for x in range(n):\n",
    "        # until there's a duplicate, keep drawing cards\n",
    "        \n",
    "        while len(h) == len(set(h)):\n",
    "            card_location = random.randint(0,len(d)-1)\n",
    "            \n",
    "            card = d[card_location]\n",
    "            \n",
    "            h.append(card)\n",
    "            d.remove(card)\n",
    "        \n",
    "        \n",
    "        l.append(len(h))\n",
    "        d = d + h\n",
    "        h = []\n",
    "        \n",
    "    return l"
   ]
  },
  {
   "cell_type": "code",
   "execution_count": 6,
   "metadata": {},
   "outputs": [],
   "source": [
    "def frequencygraph(n):\n",
    "    list = liverpoolsim(n)\n",
    "    a = []\n",
    "    b = []\n",
    "    c = []\n",
    "    for x in range(1,52):\n",
    "        a.append(x)\n",
    "        count = list.count(x)\n",
    "        b.append(count)\n",
    "        c.append(count / n)\n",
    "    #print(a)\n",
    "    #print(b)\n",
    "    #print(c)\n",
    "    \n",
    "    import matplotlib.pyplot as plt \n",
    "\n",
    "    # plotting the points  \n",
    "    plt.plot(a, c, label = 'P(pair on this draw | no pairs yet)')\n",
    "    \n",
    "    # plotting the 50% line\n",
    "    plt.plot([1,52], [0.5,0.5], linestyle='--')\n",
    "\n",
    "\n",
    "    # naming the x axis \n",
    "    plt.xlabel('# cards') \n",
    "    # naming the y axis \n",
    "    plt.ylabel('probability') \n",
    "\n",
    "    # giving a title to my graph \n",
    "    plt.title('Probability of pair when you draw x cards from two combined decks') \n",
    "\n",
    "    plt.legend()\n",
    "    \n",
    "    # function to show the plot \n",
    "    plt.show()\n"
   ]
  },
  {
   "cell_type": "code",
   "execution_count": 7,
   "metadata": {},
   "outputs": [
    {
     "data": {
      "image/png": "[encoded data removed]",
      "text/plain": [
       "<Figure size 432x288 with 1 Axes>"
      ]
     },
     "metadata": {
      "needs_background": "light"
     },
     "output_type": "display_data"
    }
   ],
   "source": [
    "frequencygraph(10000)"
   ]
  },
  {
   "cell_type": "code",
   "execution_count": 10,
   "metadata": {},
   "outputs": [],
   "source": [
    "def liverpoolsimnmo(n,m,o):\n",
    "    # make deck of m combined decks of o unique cards\n",
    "    deck = []\n",
    "    for x in range(m):\n",
    "        for x in range(o):\n",
    "            deck.append(x)\n",
    "    d = deck\n",
    "    \n",
    "    # make empty hand\n",
    "    h = []\n",
    "    \n",
    "    # make list of num_draws until match\n",
    "    l = []\n",
    "    \n",
    "    # run a simulation n times where each sim draws cards from deck until a match occurs\n",
    "    import random\n",
    "    \n",
    "    for x in range(n):\n",
    "        # until there's a duplicate, keep drawing cards\n",
    "        \n",
    "        while len(h) == len(set(h)):\n",
    "            card_location = random.randint(0,len(d)-1)\n",
    "            \n",
    "            card = d[card_location]\n",
    "            \n",
    "            h.append(card)\n",
    "            d.remove(card)\n",
    "        \n",
    "        \n",
    "        l.append(len(h))\n",
    "        d = d + h\n",
    "        h = []\n",
    "        \n",
    "    return l"
   ]
  },
  {
   "cell_type": "code",
   "execution_count": 11,
   "metadata": {},
   "outputs": [],
   "source": [
    "def frequencygraphnmo(n,m,o):\n",
    "    list = liverpoolsimnmo(n,m,o)\n",
    "    a = []\n",
    "    b = []\n",
    "    c = []\n",
    "    for x in range(1,o):\n",
    "        a.append(x)\n",
    "        count = list.count(x)\n",
    "        b.append(count)\n",
    "        c.append(count / n)\n",
    "    print(a)\n",
    "    print(b)\n",
    "    print(c)\n",
    "    \n",
    "    import matplotlib.pyplot as plt \n",
    "\n",
    "    # plotting the points  \n",
    "    plt.plot(a, c, label = 'P(pair on this draw | no pairs yet)')\n",
    "    \n",
    "    # plotting the 50% line\n",
    "    plt.plot([1,o], [0.5,0.5], linestyle='--')\n",
    "\n",
    "\n",
    "    # naming the x axis \n",
    "    plt.xlabel('# cards') \n",
    "    # naming the y axis \n",
    "    plt.ylabel('probability') \n",
    "    plt.xticks([1, 5, 10, 15, 20, 25, 30, 35])\n",
    "\n",
    "    # giving a title to my graph \n",
    "    plt.title('Probability of pair when you draw x cards from two combined decks') \n",
    "\n",
    "    plt.legend()\n",
    "    \n",
    "    # function to show the plot \n",
    "    plt.show()"
   ]
  },
  {
   "cell_type": "code",
   "execution_count": 12,
   "metadata": {},
   "outputs": [
    {
     "name": "stdout",
     "output_type": "stream",
     "text": [
      "[1, 2, 3, 4, 5, 6, 7, 8, 9, 10, 11, 12, 13, 14, 15, 16, 17, 18, 19, 20, 21, 22, 23, 24, 25, 26, 27, 28, 29, 30, 31, 32, 33, 34, 35, 36, 37, 38, 39, 40, 41, 42, 43, 44, 45, 46, 47, 48, 49, 50, 51, 52, 53, 54, 55, 56, 57, 58, 59, 60, 61, 62, 63, 64, 65, 66, 67, 68, 69, 70, 71, 72, 73, 74, 75, 76, 77, 78, 79, 80, 81, 82, 83, 84, 85, 86, 87, 88, 89, 90, 91, 92, 93, 94, 95, 96, 97, 98, 99, 100, 101, 102, 103, 104, 105, 106, 107, 108, 109, 110, 111, 112, 113, 114, 115, 116, 117, 118, 119, 120, 121, 122, 123, 124, 125, 126, 127, 128, 129, 130, 131, 132, 133, 134, 135, 136, 137, 138, 139, 140, 141, 142, 143, 144, 145, 146, 147, 148, 149, 150, 151, 152, 153, 154, 155, 156, 157, 158, 159, 160, 161, 162, 163, 164, 165, 166, 167, 168, 169, 170, 171, 172, 173, 174, 175, 176, 177, 178, 179, 180, 181, 182, 183, 184, 185, 186, 187, 188, 189, 190, 191, 192, 193, 194, 195, 196, 197, 198, 199, 200, 201, 202, 203, 204, 205, 206, 207, 208, 209, 210, 211, 212, 213, 214, 215, 216, 217, 218, 219, 220, 221, 222, 223, 224, 225, 226, 227, 228, 229, 230, 231, 232, 233, 234, 235, 236, 237, 238, 239, 240, 241, 242, 243, 244, 245, 246, 247, 248, 249, 250, 251, 252, 253, 254, 255, 256, 257, 258, 259, 260, 261, 262, 263, 264, 265, 266, 267, 268, 269, 270, 271, 272, 273, 274, 275, 276, 277, 278, 279, 280, 281, 282, 283, 284, 285, 286, 287, 288, 289, 290, 291, 292, 293, 294, 295, 296, 297, 298, 299, 300, 301, 302, 303, 304, 305, 306, 307, 308, 309, 310, 311, 312, 313, 314, 315, 316, 317, 318, 319, 320, 321, 322, 323, 324, 325, 326, 327, 328, 329, 330, 331, 332, 333, 334, 335, 336, 337, 338, 339, 340, 341, 342, 343, 344, 345, 346, 347, 348, 349, 350, 351, 352, 353, 354, 355, 356, 357, 358, 359, 360, 361, 362, 363, 364]\n",
      "[0, 0, 2, 0, 0, 2, 0, 0, 1, 2, 5, 4, 5, 3, 2, 4, 3, 3, 3, 2, 2, 5, 6, 2, 4, 1, 1, 5, 3, 1, 2, 3, 1, 2, 1, 1, 3, 0, 4, 0, 2, 0, 0, 0, 1, 2, 1, 2, 1, 0, 0, 0, 1, 2, 0, 0, 0, 0, 0, 0, 0, 0, 0, 0, 0, 0, 0, 0, 0, 0, 0, 0, 0, 0, 0, 0, 0, 0, 0, 0, 0, 0, 0, 0, 0, 0, 0, 0, 0, 0, 0, 0, 0, 0, 0, 0, 0, 0, 0, 0, 0, 0, 0, 0, 0, 0, 0, 0, 0, 0, 0, 0, 0, 0, 0, 0, 0, 0, 0, 0, 0, 0, 0, 0, 0, 0, 0, 0, 0, 0, 0, 0, 0, 0, 0, 0, 0, 0, 0, 0, 0, 0, 0, 0, 0, 0, 0, 0, 0, 0, 0, 0, 0, 0, 0, 0, 0, 0, 0, 0, 0, 0, 0, 0, 0, 0, 0, 0, 0, 0, 0, 0, 0, 0, 0, 0, 0, 0, 0, 0, 0, 0, 0, 0, 0, 0, 0, 0, 0, 0, 0, 0, 0, 0, 0, 0, 0, 0, 0, 0, 0, 0, 0, 0, 0, 0, 0, 0, 0, 0, 0, 0, 0, 0, 0, 0, 0, 0, 0, 0, 0, 0, 0, 0, 0, 0, 0, 0, 0, 0, 0, 0, 0, 0, 0, 0, 0, 0, 0, 0, 0, 0, 0, 0, 0, 0, 0, 0, 0, 0, 0, 0, 0, 0, 0, 0, 0, 0, 0, 0, 0, 0, 0, 0, 0, 0, 0, 0, 0, 0, 0, 0, 0, 0, 0, 0, 0, 0, 0, 0, 0, 0, 0, 0, 0, 0, 0, 0, 0, 0, 0, 0, 0, 0, 0, 0, 0, 0, 0, 0, 0, 0, 0, 0, 0, 0, 0, 0, 0, 0, 0, 0, 0, 0, 0, 0, 0, 0, 0, 0, 0, 0, 0, 0, 0, 0, 0, 0, 0, 0, 0, 0, 0, 0, 0, 0, 0, 0, 0, 0, 0, 0, 0, 0, 0, 0, 0, 0, 0, 0, 0, 0, 0, 0, 0, 0, 0, 0, 0, 0, 0, 0, 0, 0]\n",
      "[0.0, 0.0, 0.02, 0.0, 0.0, 0.02, 0.0, 0.0, 0.01, 0.02, 0.05, 0.04, 0.05, 0.03, 0.02, 0.04, 0.03, 0.03, 0.03, 0.02, 0.02, 0.05, 0.06, 0.02, 0.04, 0.01, 0.01, 0.05, 0.03, 0.01, 0.02, 0.03, 0.01, 0.02, 0.01, 0.01, 0.03, 0.0, 0.04, 0.0, 0.02, 0.0, 0.0, 0.0, 0.01, 0.02, 0.01, 0.02, 0.01, 0.0, 0.0, 0.0, 0.01, 0.02, 0.0, 0.0, 0.0, 0.0, 0.0, 0.0, 0.0, 0.0, 0.0, 0.0, 0.0, 0.0, 0.0, 0.0, 0.0, 0.0, 0.0, 0.0, 0.0, 0.0, 0.0, 0.0, 0.0, 0.0, 0.0, 0.0, 0.0, 0.0, 0.0, 0.0, 0.0, 0.0, 0.0, 0.0, 0.0, 0.0, 0.0, 0.0, 0.0, 0.0, 0.0, 0.0, 0.0, 0.0, 0.0, 0.0, 0.0, 0.0, 0.0, 0.0, 0.0, 0.0, 0.0, 0.0, 0.0, 0.0, 0.0, 0.0, 0.0, 0.0, 0.0, 0.0, 0.0, 0.0, 0.0, 0.0, 0.0, 0.0, 0.0, 0.0, 0.0, 0.0, 0.0, 0.0, 0.0, 0.0, 0.0, 0.0, 0.0, 0.0, 0.0, 0.0, 0.0, 0.0, 0.0, 0.0, 0.0, 0.0, 0.0, 0.0, 0.0, 0.0, 0.0, 0.0, 0.0, 0.0, 0.0, 0.0, 0.0, 0.0, 0.0, 0.0, 0.0, 0.0, 0.0, 0.0, 0.0, 0.0, 0.0, 0.0, 0.0, 0.0, 0.0, 0.0, 0.0, 0.0, 0.0, 0.0, 0.0, 0.0, 0.0, 0.0, 0.0, 0.0, 0.0, 0.0, 0.0, 0.0, 0.0, 0.0, 0.0, 0.0, 0.0, 0.0, 0.0, 0.0, 0.0, 0.0, 0.0, 0.0, 0.0, 0.0, 0.0, 0.0, 0.0, 0.0, 0.0, 0.0, 0.0, 0.0, 0.0, 0.0, 0.0, 0.0, 0.0, 0.0, 0.0, 0.0, 0.0, 0.0, 0.0, 0.0, 0.0, 0.0, 0.0, 0.0, 0.0, 0.0, 0.0, 0.0, 0.0, 0.0, 0.0, 0.0, 0.0, 0.0, 0.0, 0.0, 0.0, 0.0, 0.0, 0.0, 0.0, 0.0, 0.0, 0.0, 0.0, 0.0, 0.0, 0.0, 0.0, 0.0, 0.0, 0.0, 0.0, 0.0, 0.0, 0.0, 0.0, 0.0, 0.0, 0.0, 0.0, 0.0, 0.0, 0.0, 0.0, 0.0, 0.0, 0.0, 0.0, 0.0, 0.0, 0.0, 0.0, 0.0, 0.0, 0.0, 0.0, 0.0, 0.0, 0.0, 0.0, 0.0, 0.0, 0.0, 0.0, 0.0, 0.0, 0.0, 0.0, 0.0, 0.0, 0.0, 0.0, 0.0, 0.0, 0.0, 0.0, 0.0, 0.0, 0.0, 0.0, 0.0, 0.0, 0.0, 0.0, 0.0, 0.0, 0.0, 0.0, 0.0, 0.0, 0.0, 0.0, 0.0, 0.0, 0.0, 0.0, 0.0, 0.0, 0.0, 0.0, 0.0, 0.0, 0.0, 0.0, 0.0, 0.0, 0.0, 0.0, 0.0, 0.0, 0.0, 0.0, 0.0, 0.0, 0.0, 0.0, 0.0, 0.0, 0.0, 0.0, 0.0, 0.0, 0.0, 0.0, 0.0, 0.0, 0.0, 0.0, 0.0, 0.0, 0.0, 0.0, 0.0, 0.0, 0.0, 0.0, 0.0, 0.0, 0.0, 0.0, 0.0, 0.0, 0.0, 0.0, 0.0, 0.0, 0.0]\n"
     ]
    },
    {
     "data": {
      "image/png": "[encoded data removed]",
      "text/plain": [
       "<Figure size 432x288 with 1 Axes>"
      ]
     },
     "metadata": {
      "needs_background": "light"
     },
     "output_type": "display_data"
    }
   ],
   "source": [
    "frequencygraphnmo(100,1000,365)"
   ]
  },
  {
   "cell_type": "code",
   "execution_count": null,
   "metadata": {},
   "outputs": [],
   "source": []
  }
 ],
 "metadata": {
  "kernelspec": {
   "display_name": "Python 3",
   "language": "python",
   "name": "python3"
  },
  "language_info": {
   "codemirror_mode": {
    "name": "ipython",
    "version": 3
   },
   "file_extension": ".py",
   "mimetype": "text/x-python",
   "name": "python",
   "nbconvert_exporter": "python",
   "pygments_lexer": "ipython3",
   "version": "3.7.6"
  }
 },
 "nbformat": 4,
 "nbformat_minor": 4
}
