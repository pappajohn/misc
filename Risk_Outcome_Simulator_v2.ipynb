{
 "cells": [
  {
   "cell_type": "code",
   "execution_count": 3,
   "metadata": {},
   "outputs": [],
   "source": [
    "import random"
   ]
  },
  {
   "cell_type": "code",
   "execution_count": 4,
   "metadata": {},
   "outputs": [],
   "source": [
    "def generate_matchup(numattacking,numdefending):\n",
    "\n",
    "    a = []\n",
    "    b = []\n",
    "\n",
    "    for x in range(numattacking):\n",
    "        a.append(random.randint(1,6))\n",
    "\n",
    "    for x in range(numdefending):\n",
    "        b.append(random.randint(1,6))\n",
    "\n",
    "    a = sorted(a,reverse=True)\n",
    "    b = sorted(b,reverse=True)\n",
    "\n",
    "    return a,b\n"
   ]
  },
  {
   "cell_type": "code",
   "execution_count": 5,
   "metadata": {},
   "outputs": [
    {
     "data": {
      "text/plain": [
       "([5, 2], [6])"
      ]
     },
     "execution_count": 5,
     "metadata": {},
     "output_type": "execute_result"
    }
   ],
   "source": [
    "generate_matchup(2,1)"
   ]
  },
  {
   "cell_type": "code",
   "execution_count": 6,
   "metadata": {},
   "outputs": [],
   "source": [
    "def battletest(trials,attacking_units,defending_units):\n",
    "    \n",
    "    attack_w_counter = 0\n",
    "    defense_w_counter = 0\n",
    "    \n",
    "    for x in range(trials):\n",
    "        \n",
    "        trial_attacking_units = attacking_units\n",
    "        trial_defending_units = defending_units\n",
    "        \n",
    "        while_loop_counter = 0\n",
    "        \n",
    "#        print('fl sta, x at ' + str(x))\n",
    "#        print('fl sta, wlc at ' + str(while_loop_counter))\n",
    "        \n",
    "        while True:\n",
    "            \n",
    "            while_loop_counter += 1\n",
    "            \n",
    "            attacking_dice = min(trial_attacking_units,3)\n",
    "            defending_dice = min(trial_defending_units,2)\n",
    "            \n",
    "            #note this generates an extra roll when one of the sides is at 0\n",
    "            attacking_roll, defending_roll = generate_matchup(attacking_dice, defending_dice)\n",
    "            \n",
    "#            print('wl sta | w cnt ' + str(while_loop_counter))\n",
    "#            print('wl sta | a dice ' + str(attacking_dice) + ' d dice ' + str(defending_dice))\n",
    "#            print('wl sta | a roll ' + str(attacking_roll) + ' d dice ' + str(defending_roll))\n",
    "            \n",
    "            if min(attacking_dice,defending_dice) == 0:\n",
    "                \n",
    "#                print('min = 0?')\n",
    "                \n",
    "                if attacking_dice == 0:\n",
    "                    defense_w_counter += 1\n",
    "#                    print('a = 0')\n",
    "                \n",
    "                else:\n",
    "                    attack_w_counter += 1\n",
    "#                    print('d = 0')\n",
    "                    \n",
    "#                print('about to break')\n",
    "                    \n",
    "                break\n",
    "                \n",
    "#                print('post break')\n",
    "\n",
    "            else:\n",
    "\n",
    "                ## 3v2 and 2v2 case\n",
    "\n",
    "                if defending_dice == 2:\n",
    "#                    print('test def d = 2')\n",
    "\n",
    "                    if attacking_dice != 1:\n",
    "#                        print('atck d != 1')\n",
    "                        \n",
    "                        if attacking_roll[0] > defending_roll[0]:\n",
    "                            trial_defending_units -= 1\n",
    "#                            print('atck[0]>d[0], d u -1')\n",
    "                            \n",
    "                            \n",
    "                            if attacking_roll[1] > defending_roll[1]:\n",
    "                                trial_defending_units -= 1\n",
    "#                                print('atck[1]>d[1], d u -1')\n",
    "                                \n",
    "                            else:\n",
    "                                trial_attacking_units -= 1\n",
    "#                                print('atck[1]<=d[1], a u -1')\n",
    "\n",
    "                            \n",
    "\n",
    "                        else:                          \n",
    "                            trial_attacking_units -= 1\n",
    "#                            print('atck[0]<=d[0], a u -1')\n",
    "\n",
    "\n",
    "                            \n",
    "                            if attacking_roll[1] > defending_roll[1]:\n",
    "                                trial_defending_units -= 1\n",
    "#                                print('atck[1]>d[1], d u -1')\n",
    "                                \n",
    "                            else:                                \n",
    "                                trial_attacking_units -= 1\n",
    "#                                print('atck[1]<=d[1], a u -1')\n",
    "\n",
    "                                \n",
    "                                \n",
    "\n",
    "                    ## 1v2 case\n",
    "\n",
    "                    else:\n",
    "                        if attacking_roll[0] > defending_roll[0]:\n",
    "                            trial_defending_units -= 1\n",
    "\n",
    "                        else:\n",
    "                            trial_attacking_units -= 1\n",
    "\n",
    "                ## 3v1 and 2v1 and 1v1 case\n",
    "\n",
    "                else:\n",
    "\n",
    "                    if attacking_roll[0] > defending_roll[0]:\n",
    "                        trial_defending_units -= 1\n",
    "\n",
    "                    else:\n",
    "                        trial_attacking_units -= 1 \n",
    "                        \n",
    "                \n",
    "#                print('wl end | a unit ' + str(trial_attacking_units) + ' d unit ' + str(trial_defending_units))\n",
    "\n",
    "                continue\n",
    "        \n",
    "#        print('out of while loop')\n",
    "                            \n",
    "        \n",
    "    return attack_w_counter, defense_w_counter    "
   ]
  },
  {
   "cell_type": "code",
   "execution_count": 8,
   "metadata": {},
   "outputs": [
    {
     "data": {
      "text/plain": [
       "(746, 254)"
      ]
     },
     "execution_count": 8,
     "metadata": {},
     "output_type": "execute_result"
    }
   ],
   "source": [
    "battletest(1000,2,1)"
   ]
  },
  {
   "cell_type": "code",
   "execution_count": 9,
   "metadata": {},
   "outputs": [],
   "source": [
    "def attacker_win_prob(trials,attacking_units,defending_units):\n",
    "    a,b = battletest(trials,attacking_units,defending_units)\n",
    "\n",
    "    return a / trials"
   ]
  },
  {
   "cell_type": "code",
   "execution_count": 10,
   "metadata": {},
   "outputs": [
    {
     "data": {
      "text/plain": [
       "0.746"
      ]
     },
     "execution_count": 10,
     "metadata": {},
     "output_type": "execute_result"
    }
   ],
   "source": [
    "attacker_win_prob(1000,2,1)"
   ]
  },
  {
   "cell_type": "code",
   "execution_count": 33,
   "metadata": {},
   "outputs": [
    {
     "name": "stdout",
     "output_type": "stream",
     "text": [
      "num_attacking v num_defending, P(attacker win)\n",
      "1v1\n",
      "0.4185\n",
      "\n",
      "1v2\n",
      "0.0995\n",
      "\n",
      "1v3\n",
      "0.0246\n",
      "\n",
      "1v4\n",
      "0.006\n",
      "\n",
      "1v5\n",
      "0.002\n",
      "\n",
      "2v1\n",
      "0.7506\n",
      "\n",
      "2v2\n",
      "0.3618\n",
      "\n",
      "2v3\n",
      "0.2055\n",
      "\n",
      "2v4\n",
      "0.0946\n",
      "\n",
      "2v5\n",
      "0.0482\n",
      "\n",
      "3v1\n",
      "0.9161\n",
      "\n",
      "3v2\n",
      "0.6574\n",
      "\n",
      "3v3\n",
      "0.4855\n",
      "\n",
      "3v4\n",
      "0.3113\n",
      "\n",
      "3v5\n",
      "0.2088\n",
      "\n",
      "4v1\n",
      "0.974\n",
      "\n",
      "4v2\n",
      "0.7789\n",
      "\n",
      "4v3\n",
      "0.6374\n",
      "\n",
      "4v4\n",
      "0.4775\n",
      "\n",
      "4v5\n",
      "0.3587\n",
      "\n",
      "5v1\n",
      "0.9889\n",
      "\n",
      "5v2\n",
      "0.8889\n",
      "\n",
      "5v3\n",
      "0.7655\n",
      "\n",
      "5v4\n",
      "0.6353\n",
      "\n",
      "5v5\n",
      "0.5079\n",
      "\n"
     ]
    }
   ],
   "source": [
    "print(\"num_attacking v num_defending, P(attacker win)\")\n",
    "\n",
    "for attacking_rolls in range(1,6):\n",
    "    for defending_rolls in range(1,6):\n",
    "        print(str(attacking_rolls) + 'v' + str(defending_rolls))\n",
    "        print(attacker_win_prob(10000,attacking_rolls,defending_rolls))\n",
    "        print()"
   ]
  }
 ],
 "metadata": {
  "kernelspec": {
   "display_name": "Python 3",
   "language": "python",
   "name": "python3"
  },
  "language_info": {
   "codemirror_mode": {
    "name": "ipython",
    "version": 3
   },
   "file_extension": ".py",
   "mimetype": "text/x-python",
   "name": "python",
   "nbconvert_exporter": "python",
   "pygments_lexer": "ipython3",
   "version": "3.7.6"
  }
 },
 "nbformat": 4,
 "nbformat_minor": 4
}
